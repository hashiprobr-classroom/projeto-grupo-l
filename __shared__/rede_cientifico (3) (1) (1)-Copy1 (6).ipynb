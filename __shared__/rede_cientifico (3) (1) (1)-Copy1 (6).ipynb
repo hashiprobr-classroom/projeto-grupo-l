{
 "cells": [
  {
   "cell_type": "markdown",
   "id": "ffcd27f5-ab62-472a-91ee-c75fe61d1cc4",
   "metadata": {},
   "source": [
    "# Redes Sociais\n",
    "\n",
    "## Estudando uma rede de coautoria de artigos científicos \n",
    "\n",
    "### GRUPO-L\n",
    "- Anderson Franco\n",
    "- Guilherme Paraíso\n",
    "- Vinícius Rodrigues"
   ]
  },
  {
   "cell_type": "markdown",
   "id": "fbf52a3d-d94a-493a-9120-a88e1f1e405f",
   "metadata": {},
   "source": [
    "# Dataset\n",
    "\n",
    "Nossa base de dados se trata de artigos da aréa de Medicina entre os anos de 2000 e 2005\n",
    "\n",
    "[https://drive.google.com/file/d/1WZP0l9qdJOUkwsZhwrYW7U_8ytbob0WA/view?usp=sharing](https://drive.google.com/file/d/1WZP0l9qdJOUkwsZhwrYW7U_8ytbob0WA/view?usp=sharing)"
   ]
  },
  {
   "cell_type": "markdown",
   "id": "f0eaebe0-bd22-46a7-9bed-03f44d03e916",
   "metadata": {},
   "source": [
    "| Nome | Datasets usados para construir a rede | Tipo de Rede | Operacionalização dos vértices | Operacionalização das arestas  |\n",
    "|---|---|---|---|---|\n",
    "| Authorship network | Scopus Articles | One-mode comum | Os vértices da rede representam autores de artigos científicos. O dataset foi processado linha por linha, onde cada linha tem informações sobre um artigo como título e nomes dos autores. Os autores de cada artigo foram extraídos e armazenados e em seguida, cada autor único foi adicionado ao grafo como um vértice usando o método g.add_vertex_by_id(autor). Dessa forma, cada vértice no grafo corresponde a um autor presente no dataset. | As arestas da rede representam coautorias entre autores, indicando que dois autores escreveram pelo menos um artigo juntos. Foram identificados todos os autores de cada artigo. Para cada par de coautores, uma aresta foi adicionada ao grafo usando o método g.add_edge_by_ids(autor1, autor2). Como o grafo é não direcionado, cada aresta é única, evitando duplicações. Assim, as arestas capturam as relações de colaboração entre os autores. |"
   ]
  },
  {
   "cell_type": "markdown",
   "id": "8711c657-7cee-469a-9909-b8e2059b44df",
   "metadata": {},
   "source": [
    "Agora vamos construir a estrutura da rede para visualização"
   ]
  },
  {
   "cell_type": "code",
   "execution_count": null,
   "id": "243404b8-be88-4f45-a741-8eaa920e908e",
   "metadata": {},
   "outputs": [],
   "source": [
    "import graph_tool_extras as gte\n",
    "import pandas as pd\n",
    "import csv"
   ]
  },
  {
   "cell_type": "code",
   "execution_count": null,
   "id": "fe895897-2101-4d73-ba9a-9e1749719628",
   "metadata": {},
   "outputs": [],
   "source": [
    "PATH = '../../Datasets/scopus (14).csv'"
   ]
  },
  {
   "cell_type": "code",
   "execution_count": null,
   "id": "a90c5d1f-5d72-4159-8159-f6dbb7fcaca3",
   "metadata": {},
   "outputs": [],
   "source": [
    "g = gte.Graph(directed=False)"
   ]
  },
  {
   "cell_type": "code",
   "execution_count": null,
   "id": "53484c75-1a0e-4aba-9b14-8c8f90d0e3d5",
   "metadata": {},
   "outputs": [],
   "source": [
    "artigos_para_autores = {}\n",
    "\n",
    "# Lê o arquivo CSV\n",
    "with open(PATH) as file:\n",
    "    reader = csv.reader(file)\n",
    "    next(reader)  # Ignora o cabeçalho\n",
    "\n",
    "    for line in reader:\n",
    "        autores = line[0].split(';')  # Lista de autores\n",
    "        titulo = line[3]  # Título do artigo\n",
    "\n",
    "        # Adiciona o artigo ao dicionário de artigos para autores\n",
    "        artigos_para_autores[titulo] = autores\n",
    "\n",
    "# Adiciona todos os autores como vértices no grafo\n",
    "autores_set = set()  # Usamos um conjunto para evitar duplicatas\n",
    "for autores in artigos_para_autores.values():\n",
    "    autores_set.update(autores)\n",
    "\n",
    "for autor in autores_set:\n",
    "    g.add_vertex_by_id(autor)\n",
    "\n",
    "for autores in artigos_para_autores.values():\n",
    "    # Itera sobre todos os pares únicos de autores no mesmo artigo\n",
    "    for i in range(len(autores)):\n",
    "        for j in range(i + 1, len(autores)):\n",
    "            g.add_edge_by_ids(autores[i], autores[j])"
   ]
  },
  {
   "cell_type": "markdown",
   "id": "31b5dd02-f9d6-4f67-aec1-b5e6cee4e92a",
   "metadata": {},
   "source": [
    "Aqui abaixo vamos gerar o grafo da nossa rede, e fazer a visualização"
   ]
  },
  {
   "cell_type": "code",
   "execution_count": null,
   "id": "9aa29ff5-34d0-4362-9154-d51ddbedb215",
   "metadata": {},
   "outputs": [],
   "source": [
    "from graph_tool import draw"
   ]
  },
  {
   "cell_type": "code",
   "execution_count": null,
   "id": "da6dfe28-20b7-4e5c-9f05-bddaf5852d2c",
   "metadata": {},
   "outputs": [],
   "source": [
    "layout = draw.sfdp_layout(g)"
   ]
  },
  {
   "cell_type": "code",
   "execution_count": null,
   "id": "e1a96e4a-3da8-4e9d-bc7b-57c10e72e947",
   "metadata": {},
   "outputs": [],
   "source": [
    "gte.move(g, layout)"
   ]
  },
  {
   "cell_type": "code",
   "execution_count": null,
   "id": "278dd26b-376d-43f1-afa2-b8f70d6a202c",
   "metadata": {},
   "outputs": [],
   "source": [
    "g = gte.clean(g) "
   ]
  },
  {
   "cell_type": "code",
   "execution_count": null,
   "id": "7ad0cf6d-7425-46ce-946f-ee20abdf31b7",
   "metadata": {},
   "outputs": [],
   "source": [
    "gte.save(g, 'artigo.net.gz')"
   ]
  },
  {
   "cell_type": "code",
   "execution_count": null,
   "id": "f6ecb63b-691b-4076-9bee-8a7f69152c89",
   "metadata": {},
   "outputs": [],
   "source": [
    "import netpixi"
   ]
  },
  {
   "cell_type": "code",
   "execution_count": null,
   "id": "8069c589-8d9d-40a6-8962-2223bff0e14b",
   "metadata": {},
   "outputs": [],
   "source": [
    "resultado = netpixi.render('artigo.net.gz')"
   ]
  },
  {
   "cell_type": "code",
   "execution_count": null,
   "id": "ab28d536-13db-4724-abfd-778f9207e65f",
   "metadata": {},
   "outputs": [],
   "source": [
    "resultado.vertex_default(\n",
    "    size=4,         # tamanho            (padrão: 16)\n",
    "    bwidth=2,        # espessura da borda (padrão: 2)\n",
    ")"
   ]
  },
  {
   "cell_type": "code",
   "execution_count": null,
   "id": "44c6c6fe-204e-47f3-ad0e-5608120ee892",
   "metadata": {},
   "outputs": [],
   "source": [
    "resultado.edge_default(\n",
    "    width=0.6,        # espessura         (padrão: 2)\n",
    ")"
   ]
  },
  {
   "cell_type": "markdown",
   "id": "07a8bd3e-d984-4bbb-9464-4cb1a23b9a1f",
   "metadata": {},
   "source": [
    "# Visualização da rede"
   ]
  },
  {
   "cell_type": "markdown",
   "id": "68b1e8b6-0c42-46db-8d01-38e21e969650",
   "metadata": {},
   "source": [
    "![](artigo.net.gz1.png)"
   ]
  },
  {
   "cell_type": "markdown",
   "id": "661e217b-698e-4893-b94c-ed49cf039f09",
   "metadata": {},
   "source": [
    "# Visualização do Degree da rede\n",
    "\n",
    "## O tamanho dos vértices corresponde ao degree"
   ]
  },
  {
   "cell_type": "code",
   "execution_count": null,
   "id": "7776df39-349e-41ec-be42-e7be0a067653",
   "metadata": {},
   "outputs": [],
   "source": [
    "#DEGREE\n",
    "g = gte.load('artigo.net.gz')\n",
    "\n",
    "c = gte.total_degree(g)\n",
    "\n",
    "g.add_vp('degree', c)"
   ]
  },
  {
   "cell_type": "code",
   "execution_count": null,
   "id": "432d3182-1114-4fc1-9c23-3daa2a8b7445",
   "metadata": {},
   "outputs": [],
   "source": [
    "gte.save(g, 'degree.net.gz')"
   ]
  },
  {
   "cell_type": "code",
   "execution_count": null,
   "id": "0a429a82-f70d-4366-a50a-b2df54c1b6c3",
   "metadata": {
    "scrolled": true
   },
   "outputs": [],
   "source": [
    "r = netpixi.render('degree.net.gz')"
   ]
  },
  {
   "cell_type": "code",
   "execution_count": null,
   "id": "714e4c67-b864-4bd5-8654-a15b827a4d5f",
   "metadata": {},
   "outputs": [],
   "source": [
    "r.vertex_scale('degree', 10, 30)"
   ]
  },
  {
   "cell_type": "markdown",
   "id": "c513a779-ebc8-4e61-a7e7-0503150c2530",
   "metadata": {},
   "source": [
    "# Visualização do Betweenness da rede\n",
    "\n",
    "## O tamanho dos vértices corresponde ao betweenness"
   ]
  },
  {
   "cell_type": "code",
   "execution_count": null,
   "id": "05c9f23e-004e-4f1e-9921-c68063739cc0",
   "metadata": {},
   "outputs": [],
   "source": [
    "#BETWEENEES\n",
    "from graph_tool import centrality\n",
    "g = gte.load('artigo.net.gz')\n",
    "\n",
    "c, _ = centrality.betweenness(g)\n",
    "\n",
    "g.add_vp('betweenness', c)"
   ]
  },
  {
   "cell_type": "code",
   "execution_count": null,
   "id": "6c64935c-c528-4377-ad26-bfc19600a718",
   "metadata": {},
   "outputs": [],
   "source": [
    "gte.save(g, 'betweenness.net.gz')"
   ]
  },
  {
   "cell_type": "code",
   "execution_count": null,
   "id": "53808273-36ad-4064-be8f-19793c1ee7e3",
   "metadata": {},
   "outputs": [],
   "source": [
    "r = netpixi.render('betweenness.net.gz')"
   ]
  },
  {
   "cell_type": "code",
   "execution_count": null,
   "id": "e79ac34c-f4eb-4dae-8580-6d54cf8a9269",
   "metadata": {},
   "outputs": [],
   "source": [
    "r.vertex_scale('betweenness', 4, 30)"
   ]
  },
  {
   "cell_type": "markdown",
   "id": "4cb3cf57-dcf4-40c0-9870-c3cc56e23a49",
   "metadata": {},
   "source": [
    "# Visualização do closeness da rede\n",
    "\n",
    "## O tamanho dos vértices corresponde ao closeness\n"
   ]
  },
  {
   "cell_type": "code",
   "execution_count": null,
   "id": "892f4860-b8a7-456d-adc9-3dd853f73c7c",
   "metadata": {},
   "outputs": [],
   "source": [
    "#CLOSENESS\n",
    "from graph_tool import centrality\n",
    "g = gte.load('artigo.net.gz')\n",
    "\n",
    "c = centrality.closeness(g, harmonic=True)\n",
    "\n",
    "g.add_vp('closeness', c)"
   ]
  },
  {
   "cell_type": "code",
   "execution_count": null,
   "id": "64d5aed7-e124-414b-9a5b-fd838815e6ea",
   "metadata": {},
   "outputs": [],
   "source": [
    "gte.save(g, 'closeness.net.gz')"
   ]
  },
  {
   "cell_type": "code",
   "execution_count": null,
   "id": "891a16f9-27d9-4060-b594-e61df05c2296",
   "metadata": {},
   "outputs": [],
   "source": [
    "r = netpixi.render('closeness.net.gz')"
   ]
  },
  {
   "cell_type": "code",
   "execution_count": null,
   "id": "e8ee3b9c-821e-431a-bfce-79f1383dbc0e",
   "metadata": {},
   "outputs": [],
   "source": [
    "r.vertex_scale('closeness', 4, 20)"
   ]
  },
  {
   "cell_type": "markdown",
   "id": "b2ea6666-276f-4351-94ca-50a1eb60f79b",
   "metadata": {},
   "source": [
    "# Visualização da restrição da rede\n",
    "\n",
    "## O tamanho dos vértices corresponde a restrição"
   ]
  },
  {
   "cell_type": "code",
   "execution_count": null,
   "id": "6f126dc0-df3e-404d-965a-c502407e6207",
   "metadata": {},
   "outputs": [],
   "source": [
    "#RESTRICAO\n",
    "from graph_tool import centrality\n",
    "g = gte.load('artigo.net.gz')\n",
    "\n",
    "c = gte.burt_constraint(g)\n",
    "\n",
    "g.add_vp('burt_constraint', c)"
   ]
  },
  {
   "cell_type": "code",
   "execution_count": null,
   "id": "a43ce2c6-8a43-4bcf-829a-b221e9aeb22c",
   "metadata": {},
   "outputs": [],
   "source": [
    "gte.save(g, 'structural_holes.net.gz')"
   ]
  },
  {
   "cell_type": "code",
   "execution_count": null,
   "id": "3a1b9740-6125-421d-ae93-889872598d1e",
   "metadata": {},
   "outputs": [],
   "source": [
    "r = netpixi.render('structural_holes.net.gz')"
   ]
  },
  {
   "cell_type": "code",
   "execution_count": null,
   "id": "b339f82b-a9ae-4a7b-973e-25b17ab3b1db",
   "metadata": {},
   "outputs": [],
   "source": [
    "r.vertex_scale('burt_constraint', 4, 30)"
   ]
  },
  {
   "cell_type": "markdown",
   "id": "b3c99574-53cf-4fc9-9556-afc4a40a1fb7",
   "metadata": {},
   "source": [
    "# Visualização do coreness continuo da rede\n",
    "\n",
    "## O tamanho dos vértices corresponde ao coreness continuo"
   ]
  },
  {
   "cell_type": "code",
   "execution_count": null,
   "id": "133297e3-b13a-49f0-868c-b01d7ce379b3",
   "metadata": {},
   "outputs": [],
   "source": [
    "#CONTINUO\n",
    "import cpnet\n",
    "import netpixi\n",
    "g = gte.load('artigo.net.gz')\n",
    "\n",
    "c, l = gte.coreness(g, cpnet.Rombach)"
   ]
  },
  {
   "cell_type": "code",
   "execution_count": null,
   "id": "19ad15f5-2baf-4e6a-8513-8a534880ba9f",
   "metadata": {},
   "outputs": [],
   "source": [
    "import matplotlib.pyplot as plt\n",
    "plt.figure(figsize=(12, 6))\n",
    "plt.hist(c.a, bins=50, edgecolor='black', alpha=0.7) # 'c.a' acessa o array numpy dos valores de coreness\n",
    "plt.title('Distribuição dos Valores de Coreness')\n",
    "plt.xlabel('Valor de Coreness')\n",
    "plt.ylabel('Frequência de Nós')\n",
    "plt.grid(axis='y', alpha=0.75)\n",
    "plt.show()"
   ]
  },
  {
   "cell_type": "code",
   "execution_count": null,
   "id": "21111da1-dbf2-4f01-9100-69c1f3aaa3e0",
   "metadata": {},
   "outputs": [],
   "source": [
    "g.add_vp('coreness', c)\n",
    "\n",
    "gte.save(g, 'coreness.net.gz')\n",
    "\n",
    "r = netpixi.render('coreness.net.gz')"
   ]
  },
  {
   "cell_type": "code",
   "execution_count": null,
   "id": "b8aad1bf-c4e3-4309-8ace-0cc5c08b0ab6",
   "metadata": {},
   "outputs": [],
   "source": [
    "r.vertex_scale('coreness', 5, 20)"
   ]
  },
  {
   "cell_type": "markdown",
   "id": "7a59a7f2-1d7e-41d7-b8bf-b683f55ec534",
   "metadata": {},
   "source": [
    "# Visualização do coreness discreto da rede\n",
    "\n",
    "## O tamanho dos vértices corresponde ao coreness discreto"
   ]
  },
  {
   "cell_type": "code",
   "execution_count": null,
   "id": "86cac6c6-ba16-4303-bfba-cabf6894fb26",
   "metadata": {},
   "outputs": [],
   "source": [
    "#DISCRETO\n",
    "import cpnet\n",
    "import netpixi\n",
    "\n",
    "g = gte.load('artigo.net.gz')\n",
    "\n",
    "c, l = gte.coreness(g, cpnet.Surprise)\n",
    "\n",
    "g.add_converted_vp('color', c, lambda coreness: 0x00ff00 if round(coreness) == 1 else 0xff0000)\n",
    "\n",
    "gte.save(g, 'coreness_discreto.net.gz')\n",
    "\n",
    "r = netpixi.render('coreness_discreto.net.gz');"
   ]
  },
  {
   "cell_type": "code",
   "execution_count": null,
   "id": "64f1293d-2390-438b-a5f9-6b1fdb1434ed",
   "metadata": {},
   "outputs": [],
   "source": [
    "r.vertex_scale('coreness', 5, 50)"
   ]
  },
  {
   "cell_type": "markdown",
   "id": "9ae448eb-73e7-47aa-9614-f6ded4676b3a",
   "metadata": {},
   "source": [
    "# Distriguição do Degree"
   ]
  },
  {
   "cell_type": "code",
   "execution_count": null,
   "id": "b756e3de-c440-49eb-9454-ebc7051112d3",
   "metadata": {},
   "outputs": [],
   "source": [
    "#DISTRIBUICAO DEGREE\n",
    "g = gte.load('artigo.net.gz')\n",
    "degrees = g.get_total_degrees()"
   ]
  },
  {
   "cell_type": "code",
   "execution_count": null,
   "id": "cbefd662-c753-41a6-86f9-4f939184d332",
   "metadata": {},
   "outputs": [],
   "source": [
    "degrees.describe()"
   ]
  },
  {
   "cell_type": "code",
   "execution_count": null,
   "id": "72075bcb-3181-4946-a17e-1832d592b0cf",
   "metadata": {},
   "outputs": [],
   "source": [
    "degrees.hist();"
   ]
  },
  {
   "cell_type": "markdown",
   "id": "eb573474-3b08-4e8c-9026-5c99856c31e0",
   "metadata": {},
   "source": [
    "# Construção do Mecanismo\n",
    "\n",
    "A formulação de um \"mecanismo\" em análise de redes sociais é um processo estruturado que visa explicar como uma variável independente (geralmente uma métrica de rede) influencia uma variável dependente, através de ações e entidades específicas, e sob certas condições. Ele vai além de uma simples correlação, buscando a causalidade e a explicação dos processos.\n",
    "\n",
    "\n",
    "## 1. Definir Variáveis (Independente e Dependente):\n",
    "\n",
    "    - Variável Independente: Escolhe uma métrica de rede (e.g., Betweenness centrality, Degree, Closeness centrality, etc.) que se acredita ter um papel causal. Esta é a característica da rede que será investigada como influência.\n",
    "    - Variável Dependente: Identifica o fenômeno ou resultado que se quer explicar (e.g., coautoria internacional, inovação, transferência de conhecimento). Esta é a variável de resultado.\n",
    "\n",
    "## 2. Formular a Hipótese:\n",
    "\n",
    "Com base nas variáveis, cria-se uma frase clara e concisa que articula a relação esperada entre elas. Pensa-se em termos de \"o aumento de X leva a Y\" ou \"maior X está associado a maior Y\". Esta é a afirmação testável.\n",
    "\n",
    "## 3. Identificar as Entidades do Mecanismo:\n",
    "\n",
    "Pergunta-se: \"Quem age neste mecanismo?\" ou \"Quais são os agentes principais envolvidos no processo?\" São os nós da rede que estão diretamente envolvidos na explicação.\n",
    "\n",
    "## 4. Descrever as Ações do Mecanismo:\n",
    "\n",
    "Aqui, detalha-se o que as entidades identificadas fazem que leva ao resultado. Aqui é importante pensar nos comportamentos, interações ou processos que transformam a variável independente na variável dependente. \"Como\" a entidade influencia o resultado?\n",
    "\n",
    "## 5. Especificar os Resultados do Mecanismo:\n",
    "\n",
    "Qual é o resultado final gerado pelas ações das entidades? Deve ser um resultado observável e, idealmente, mensurável, que se alinha com a variável dependente.\n",
    "\n",
    "## 6. Definir o Contexto do Mecanismo:\n",
    "\n",
    "Nenhum mecanismo ocorre no vácuo. Quais são as condições explícitas ou implícitas (sociais, organizacionais, políticas, temporais) que precisam estar presentes para que o mecanismo funcione como esperado? Quais fatores poderiam fortalecer ou enfraquecer o efeito?\n",
    "\n",
    "## 7. Redação Final do Mecanismo:\n",
    "\n",
    "Reúnem-se todos os elementos anteriores em um texto coeso e explicativo. Esta é a narrativa detalhada do mecanismo. Começa-se com a variável independente e segue-se a lógica através das entidades, ações, resultados e contexto. Usa-se uma linguagem clara e evita-se jargões desnecessários, explicando a lógica subjacente.\n",
    "\n",
    "Ao seguir esses passos, constrói-se uma explicação robusta e testável de como as estruturas de rede influenciam resultados específicos, o que é fundamental para a compreensão aprofundada em análise de redes.\n"
   ]
  },
  {
   "cell_type": "markdown",
   "id": "ab55cfa7-3dfd-4523-a7ac-86d8099796fc",
   "metadata": {},
   "source": [
    "# Nosso Mecanismo\n",
    "\n",
    "| | |\n",
    "|---|---|\n",
    "| Variável independente  | Betweenness centrality |\n",
    "| Variável dependente | coautoria internacional |\n",
    "| Hipótese | Autores com alta betweenness centrality têm maior probabilidade de publicar em coautoria com autores de diferentes países. |\n",
    "| Entidades do mecanismo (quem age?) | autores |\n",
    "| Ações do mecanismo (o que as entidades fazem? o que gera algo?) | Esses autores mediam colaborações internacionais estratégicas negociando projetos que dependem de recursos geograficamente dispersos, viabilizando parcerias que outros não conseguiriam. |\n",
    "| Resultados do mecanismo (qual é o resultado final gerado?) | Maior probabilidade de artigos com coautoria internacional |\n",
    "| Contexto do mecanismo (quais são as condições explícitas ou implícitas que, se fossem alteradas, modificariam os resultados?) | O efeito é mais forte em áreas com especialização regional ou em países com políticas de fomento à colaboração internacional, mas enfraquece em redes já globalizadas ou sob restrições políticas. |\n",
    "| Redação final do mecanismo | Autores com alta betweenness centrality atuam como pontes entre comunidades científicas separadas, muitas vezes com diferentes especializações, localizações geográficas ou idiomas. Diferente de autores com alto degree (que têm muitos coautores diretos), esses autores circulam entre subgrupos desconectados, e com isso frequentemente estabelecem conexões que outros não fariam. Esse posicionamento estrutural permite que eles cruzem barreiras institucionais, disciplinares e geográficas, abrindo portas para colaborações internacionais estratégicas, mesmo sem ter grande número de conexões totais. Muitas vezes, essas colaborações são funcionais, motivadas por complementaridade metodológica, acesso a dados únicos, ou por estarem em posição de negociar e intermediar interesses entre grupos distintos. |"
   ]
  },
  {
   "cell_type": "markdown",
   "id": "f91c2d3e-e0d6-4eda-9ef4-117902543807",
   "metadata": {},
   "source": [
    "# Tratando os dados\n",
    "\n",
    "Agora vamos tratar os dados para trabalhar com a nossa hipótese de coautoria internacional. Nosso dataset contém as seguintes colunas:\n",
    "\n",
    "- \"Authors\"\n",
    "- Authors full names\n",
    "- Authors IDs\n",
    "- Title\n",
    "- Year\n",
    "- Cited by\n",
    "- Link\n",
    "- Affiliations\n",
    "- Authors with affiliations\n",
    "\n",
    "Iremos trabalhar com a coluna de Affiliations para obter as informações de coautoria internacional"
   ]
  },
  {
   "cell_type": "code",
   "execution_count": null,
   "id": "9d81a3be-dd19-468e-95e4-eed6c5198629",
   "metadata": {},
   "outputs": [],
   "source": [
    "import pandas as pd\n",
    "import csv\n",
    "import graph_tool.all as gt # Usaremos graph_tool para as métricas de rede\n",
    "import numpy as np # Importar numpy para log e NaN\n",
    "import statsmodels.api as sm # Para OLS\n",
    "import statsmodels.formula.api as smf # Para OLS com fórmula\n",
    "from statsmodels.discrete.discrete_model import Logit # Para Regressão Logística\n",
    "import re # Para extrair países\n",
    "\n",
    "PATH = '../../Datasets/scopus (14).csv'\n",
    "\n",
    "# --- Construção do Grafo e Cálculo das Métricas de Autor ---\n",
    "\n",
    "# Criar grafo vazio\n",
    "g = gt.Graph(directed=False)\n",
    "\n",
    "# Dicionário para mapear autores para vértices\n",
    "autor_para_vertice = {}\n",
    "# Dicionário para armazenar o nome do autor associado a cada vértice\n",
    "vertice_para_autor = {}\n",
    "\n",
    "print(\"Construindo o grafo a partir do CSV...\")\n",
    "\n",
    "author_col_idx = 0\n",
    "affiliation_col_idx = -1 # Inicializamos affiliation_col_idx para ser encontrado pelo nome\n",
    "\n",
    "with open(PATH, 'r', encoding='utf-8') as f:\n",
    "    reader = csv.reader(f)\n",
    "    header = next(reader)  # Pular cabeçalho\n",
    "\n",
    "    # Encontrar o índice da coluna de afiliações pelo nome\n",
    "    try:\n",
    "        affiliation_col_idx = header.index('Affiliations')\n",
    "    except ValueError as e:\n",
    "        print(f\"Erro: Coluna 'Affiliations' não encontrada no cabeçalho. Verifique o nome da coluna. {e}\")\n",
    "        # Se a coluna de afiliações não for encontrada, não podemos continuar\n",
    "        exit()\n",
    "\n",
    "    # Verificar se o índice de afiliações foi encontrado com sucesso\n",
    "    if affiliation_col_idx == -1:\n",
    "        print(\"Erro: A coluna 'Affiliations' não foi encontrada.\")\n",
    "        exit()\n",
    "\n",
    "    # Não precisamos verificar author_col_idx aqui, pois assumimos que é 0\n",
    "\n",
    "    for i, line in enumerate(reader):\n",
    "        # Ignorar linhas com dados insuficientes ou erros, usando os índices encontrados\n",
    "        # Verificamos se o comprimento da linha é suficiente para acessar o índice de afiliações\n",
    "        # e assumimos que o índice 0 (autores) sempre existe se houver afiliações ou outros dados\n",
    "        if len(line) <= affiliation_col_idx:\n",
    "             continue\n",
    "\n",
    "        # Acessar a coluna de autores diretamente pelo índice 0\n",
    "        autores_str = line[author_col_idx]\n",
    "        if not isinstance(autores_str, str) or autores_str.strip() == '':\n",
    "            continue # Pula linhas sem autores\n",
    "\n",
    "        autores = [a.strip() for a in autores_str.split(';') if a.strip()] # Garante que não há autores vazios\n",
    "\n",
    "        if len(autores) < 1:\n",
    "            continue # Pula artigos sem autores válidos\n",
    "\n",
    "        # Adicionar autores ao grafo se não existirem\n",
    "        for autor in autores:\n",
    "            if autor not in autor_para_vertice:\n",
    "                v = g.add_vertex()\n",
    "                autor_para_vertice[autor] = v\n",
    "                vertice_para_autor[g.vertex_index[v]] = autor # Mapeia índice do vértice para nome do autor\n",
    "\n",
    "        # Adicionar arestas entre coautores no mesmo artigo\n",
    "        for i_autor in range(len(autores)):\n",
    "            for j_autor in range(i_autor + 1, len(autores)):\n",
    "                autor1 = autores[i_autor]\n",
    "                autor2 = autores[j_autor]\n",
    "                v1 = autor_para_vertice[autor1]\n",
    "                v2 = autor_para_vertice[autor2]\n",
    "                # Adiciona aresta apenas se não existir para evitar duplicatas em grafos não direcionados\n",
    "                if g.edge(v1, v2) is None:\n",
    "                    g.add_edge(v1, v2)"
   ]
  },
  {
   "cell_type": "code",
   "execution_count": null,
   "id": "cb7ae8ed-833a-46c6-8a2a-cdfa6cac0897",
   "metadata": {},
   "outputs": [],
   "source": [
    "# Calcular o degree de cada autor\n",
    "print(\"Calculando degree dos autores...\")\n",
    "degree_vp = g.degree_property_map(\"total\")\n",
    "autor_degree = {vertice_para_autor[g.vertex_index[v]]: degree_vp[v] for v in g.vertices()}\n",
    "\n",
    "# Calcular a centralidade de intermediação de cada autor\n",
    "print(\"Calculando betweenness centrality dos autores...\")\n",
    "# betweenness() retorna uma tupla de propriedades de vértice: betweenness e edge_betweenness\n",
    "vb, eb = gt.betweenness(g)\n",
    "autor_betweenness = {vertice_para_autor[g.vertex_index[v]]: vb[v] for v in g.vertices()}"
   ]
  },
  {
   "cell_type": "code",
   "execution_count": null,
   "id": "4ed664f0-1322-4f7b-bfac-069548d516ee",
   "metadata": {},
   "outputs": [],
   "source": [
    "print(\"Carregando e preparando o DataFrame...\")\n",
    "df = pd.read_csv(PATH)\n",
    "df['Authors'] = df['Authors'].fillna('')  # Substitui NaN por string vazia\n",
    "df['Affiliations'] = df['Affiliations'].fillna('') # Substitui NaN por string vazia\n",
    "\n",
    "# Função para extrair países (reutilizada da sua versão corrigida)\n",
    "def extract_countries(affiliations_str):\n",
    "    if not isinstance(affiliations_str, str) or affiliations_str.strip() == '':\n",
    "        return []\n",
    "\n",
    "    countries = []\n",
    "    # Divide a string em afiliações individuais usando ponto e vírgula\n",
    "    affiliations_list = affiliations_str.split(';')\n",
    "\n",
    "    for affiliation in affiliations_list:\n",
    "        # Divide cada afiliação por vírgulas\n",
    "        parts = [p.strip() for p in affiliation.split(',')]\n",
    "        # Pega o último elemento, que esperamos que seja o país\n",
    "        if parts: # Garante que a lista de partes não está vazia\n",
    "            country = parts[-1].strip()\n",
    "            if country and len(country) > 1: # Garante que o nome do país não está vazio e tem mais de 1 caractere\n",
    "                 countries.append(country)\n",
    "\n",
    "    # Remove duplicatas e retorna como lista\n",
    "    return list(set(countries))\n",
    "\n",
    "# Aplicar a função para extrair países\n",
    "df['countries'] = df['Affiliations'].apply(extract_countries)\n",
    "\n",
    "# Calcular o número de países e a variável dependente logaritmizada\n",
    "df['num_paises'] = df['countries'].apply(len)\n",
    "\n",
    "df_nm = df[df['num_paises'] >= 2]\n",
    "# Adiciona 1 antes do log para lidar com 0 países, evitando log(0)\n",
    "df['pais_log'] = np.log(df['num_paises'] + 1)\n",
    "\n",
    "df_nm['pais_log'] = np.log(df_nm['num_paises'])"
   ]
  },
  {
   "cell_type": "markdown",
   "id": "82e83945-7173-4dcc-bf95-d9c2093ab5fd",
   "metadata": {},
   "source": [
    "# Variáveis dependente e de controle\n",
    "\n",
    "Ao utilizar o max (máximo) para betweenness e degree, o modelo captura o nível mais alto de conectividade direta ou a posição mais forte como intermediário que um autor atingiu em sua trajetória na rede. Isso permite identificar se o potencial máximo de um autor nessas dimensões está associado ao aumento da coautoria internacional, em vez de uma medida diluída pela média ou uma soma total"
   ]
  },
  {
   "cell_type": "code",
   "execution_count": null,
   "id": "e67ca6c1-54f8-4727-ab28-b10a0bfba09d",
   "metadata": {},
   "outputs": [],
   "source": [
    "def calcular_metricas_max(autores_str, metric_dict):\n",
    "    if not isinstance(autores_str, str) or autores_str.strip() == '':\n",
    "        return 0.0\n",
    "\n",
    "    autores = [a.strip() for a in autores_str.split(';') if a.strip()]\n",
    "    if not autores:\n",
    "        return 0.0\n",
    "\n",
    "    metricas = [metric_dict.get(autor, 0.0) for autor in autores]\n",
    "    return max(metricas) if metricas else 0.0\n",
    "\n",
    "# Adicionar colunas de soma de degree e betweenness ao DataFrame\n",
    "df['degree_max'] = df['Authors'].apply(lambda x: calcular_metricas_max(x, autor_degree))\n",
    "df['betweenness_max'] = df['Authors'].apply(lambda x: calcular_metricas_max(x, autor_betweenness))\n",
    "\n",
    "df_nm['degree_max'] = df_nm['Authors'].apply(lambda x: calcular_metricas_max(x, autor_degree))\n",
    "df_nm['betweenness_max'] = df_nm['Authors'].apply(lambda x: calcular_metricas_max(x, autor_betweenness))"
   ]
  },
  {
   "cell_type": "markdown",
   "id": "e8a76cdb-eef6-4320-ba60-c995b970d522",
   "metadata": {},
   "source": [
    "# Regressão Linear\n",
    "\n",
    "Aqui iremos aplicar uma regressão linear simples em dois casos:\n",
    "- Modelo Baseline: Entender o impacto de degree na variável dependente\n",
    "- Modelo completo: Entender o impacto de betweenness na variável dependente"
   ]
  },
  {
   "cell_type": "code",
   "execution_count": null,
   "id": "6606ee71-d79d-4d72-8791-fbc84d47441c",
   "metadata": {},
   "outputs": [],
   "source": [
    "print(\"\\n--- Realizando Regressão Linear (OLS) ---\")\n",
    "# Variável dependente: log do número de países (pais_log)\n",
    "# Variáveis preditoras: degree_soma e betweenness_soma\n",
    "\n",
    "# Definir as variáveis dependente e independentes\n",
    "y_ols = df_nm['pais_log']\n",
    "X_ols = df_nm['degree_max']\n",
    "\n",
    "# Adicionar constante ao modelo\n",
    "X_ols = sm.add_constant(X_ols)\n",
    "\n",
    "# Criar e ajustar o modelo OLS\n",
    "model_ols = sm.OLS(y_ols, X_ols)\n",
    "results_ols = model_ols.fit()\n",
    "\n",
    "# Imprimir o resumo dos resultados OLS\n",
    "print(results_ols.summary())"
   ]
  },
  {
   "cell_type": "code",
   "execution_count": null,
   "id": "e2207087-53c1-4f3a-a3b4-2ea7a2d538db",
   "metadata": {},
   "outputs": [],
   "source": [
    "import regression as reg\n",
    "import numpy as np\n",
    "result = reg.linear(data=df_nm, formula='pais_log ~ degree_max') # dependente à esquerda!\n",
    "result.micro_summary()"
   ]
  },
  {
   "cell_type": "code",
   "execution_count": null,
   "id": "976d0b28-4c9a-48b3-96dd-cf4683c76628",
   "metadata": {},
   "outputs": [],
   "source": [
    "result.plot_residuals()"
   ]
  },
  {
   "cell_type": "markdown",
   "id": "b4fda761-c419-490e-8497-28c0ee2883c0",
   "metadata": {},
   "source": [
    "# Modelo Baseline\n",
    "\n",
    "|  |  |\n",
    "|---|---|\n",
    "| Variável de controle | Degree |\n",
    "| Variável dependente | coautoria internacional |\n",
    "| Expectativa do coeficiente da variável de controle (antes de rodar a regressão) | Positivo |\n",
    "| Coeficiente da variável de controle (depois de rodar a regressão) | 0.0006 |\n",
    "| Valor-p da variável de controle (depois de rodar a regressão) | 0 |\n",
    "| Conclusão sobre a variável de controle | Corroborou (sinal do coeficiente esperado, valor-p baixo) |\n",
    "| R-quadrado | 0.014 |\n",
    "| Gráfico de resíduos | ![](graficoresiduo.png) |"
   ]
  },
  {
   "cell_type": "code",
   "execution_count": null,
   "id": "e7c3c4a2",
   "metadata": {},
   "outputs": [],
   "source": [
    "print(\"\\n--- Realizando Regressão Linear (OLS) ---\")\n",
    "# Variável dependente: log do número de países (pais_log)\n",
    "# Variáveis preditoras: degree_soma e betweenness_soma\n",
    "\n",
    "# Definir as variáveis dependente e independentes\n",
    "y_ols = df_nm['pais_log']\n",
    "X_ols = df_nm[['degree_max', 'betweenness_max']]\n",
    "\n",
    "# Adicionar constante ao modelo\n",
    "X_ols = sm.add_constant(X_ols)\n",
    "\n",
    "# Criar e ajustar o modelo OLS\n",
    "model_ols = sm.OLS(y_ols, X_ols)\n",
    "results_ols = model_ols.fit()\n",
    "\n",
    "# Imprimir o resumo dos resultados OLS\n",
    "print(results_ols.summary())"
   ]
  },
  {
   "cell_type": "code",
   "execution_count": null,
   "id": "d9ca2449-2a9f-403f-a3ad-fc69f2dac2a9",
   "metadata": {},
   "outputs": [],
   "source": [
    "import regression as reg\n",
    "import numpy as np\n",
    "result = reg.linear(data=df_nm, formula='pais_log ~ degree_max + betweenness_max') # dependente à esquerda!\n",
    "result.micro_summary()"
   ]
  },
  {
   "cell_type": "code",
   "execution_count": null,
   "id": "7f19d565-6867-4ea9-90b5-b4ac3d5dc8d6",
   "metadata": {},
   "outputs": [],
   "source": [
    "result.plot_residuals()"
   ]
  },
  {
   "cell_type": "markdown",
   "id": "37f60bca-2514-4f6d-83c7-b122aac43e4c",
   "metadata": {},
   "source": [
    "# Modelo Completo\n",
    "\n",
    "|  |  |\n",
    "|---|---|\n",
    "| Variável de controle | Degree |\n",
    "| Variável independente | Betweenness centrality |\n",
    "| Variável dependente | coautoria internacional |\n",
    "| Expectativa do coeficiente da variável de controle (antes de rodar a regressão) | Positivo |\n",
    "| Coeficiente da variável de controle (depois de rodar a regressão) | 0.0008 |\n",
    "| Valor-p da variável de controle (depois de rodar a regressão) | 0 |\n",
    "| Conclusão sobre a variável de controle | Corroborou (sinal do coeficiente esperado, valor-p baixo) |\n",
    "| Expectativa do coeficiente da variável independente (antes de rodar a regressão) | Positivo |\n",
    "| Coeficiente da variável independente (depois de rodar a regressão) | -4.5364 |\n",
    "| Valor-p da variável independente (depois de rodar a regressão) | 0.118 |\n",
    "| Conclusão sobre a variável independente | Inverteu (sinal do coeficiente oposto, valor-p baixo) |\n",
    "| R-quadrado | 0.014 |\n",
    "| Gráfico de resíduos | ![](graficoresiduo2.png) |"
   ]
  },
  {
   "cell_type": "markdown",
   "id": "b26a5622-e6a2-4368-99c6-56532c14a2a7",
   "metadata": {},
   "source": [
    "# Novo Contexto\n",
    "\n",
    "O resultado da regressão, onde a betweenness centrality mostrou um efeito negativo na coautoria internacional (inverso ao esperado), sugere que o mecanismo proposto não se ativa da forma esperada dentro do contexto específico da pesquisa atual. Isso nos leva a investigar as boundary conditions que podem ter interferido.\n",
    "\n",
    "## Justificativa do resultado\n",
    "\n",
    "Em um contexto onde as redes de pesquisa internacionais já estão altamente globalizadas e densas, as oportunidades de intermediação por betweenness centrality para \"cruzar barreiras\" ou \"abrir portas\" podem ser reduzidas. \n",
    "\n",
    "As conexões internacionais já existem de forma mais direta e abundante, e o valor do intermediário (o autor com alta betweenness) diminui porque os pares já estão conectados ou têm múltiplos caminhos para se conectar, sem a necessidade de uma \"ponte\" específica. O autor com alta betweenness pode ser percebido como um \"gargalo\" ou um intermediário desnecessário, em vez de um facilitador.\n",
    "\n",
    "## Proposta de contexto alternativo\n",
    "\n",
    "Pesquisadores em áreas de pesquisa emergentes ou interdisciplinares que estão em fase inicial de globalização, ou em países em desenvolvimento com um forte ímpeto para internacionalização da ciência, mas com redes internacionais ainda em formação.\n",
    "\n",
    "## Por que o contexto alternativo é suficientemente SIMILAR ao original?\n",
    "\n",
    "Os agentes são os mesmos, buscando colaborações. Além disso, o fenômeno de interesse (coautoria internacional) permanece o mesmo, da mesma forma que as métricas de betweenness centrality e degree são relevantes para descrever a estrutura e o posicionamento dos autores dentro da rede. E por fim, permanece a busca por complementaridade metodológica, acesso a dados únicos e negociação de interesses ainda são forças motrizes.\n",
    "\n",
    "## Por que o contexto alternativo é suficientemente DIFERENTE do original? Em particular, porque ele poderia fazer a conclusao original mudar?\n",
    "\n",
    "O contexto alternativo difere do original nas condições das \"boundary conditions\" que deveriam intensificar o efeito da betweenness centrality, em vez de bloqueá-lo ou enfraquecê-lo. O contexto alternativo se concentra em redes que ainda não estão \"altamente globalizadas\" e onde as conexões internacionais ainda não são abundantes e diretas. Em áreas ou países emergentes na cena global, as lacunas estruturais entre comunidades científicas são mais proeminentes"
   ]
  }
 ],
 "metadata": {
  "kernelspec": {
   "display_name": "Python 3 (ipykernel)",
   "language": "python",
   "name": "python3"
  },
  "language_info": {
   "codemirror_mode": {
    "name": "ipython",
    "version": 3
   },
   "file_extension": ".py",
   "mimetype": "text/x-python",
   "name": "python",
   "nbconvert_exporter": "python",
   "pygments_lexer": "ipython3",
   "version": "3.13.1"
  }
 },
 "nbformat": 4,
 "nbformat_minor": 5
}
