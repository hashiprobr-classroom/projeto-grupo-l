{
 "cells": [
  {
   "cell_type": "code",
   "execution_count": 1,
   "id": "243404b8-be88-4f45-a741-8eaa920e908e",
   "metadata": {
    "execution": {
     "iopub.execute_input": "2025-03-26T03:34:18.175861Z",
     "iopub.status.busy": "2025-03-26T03:34:18.175557Z",
     "iopub.status.idle": "2025-03-26T03:34:21.461230Z",
     "shell.execute_reply": "2025-03-26T03:34:21.460376Z",
     "shell.execute_reply.started": "2025-03-26T03:34:18.175840Z"
    }
   },
   "outputs": [],
   "source": [
    "import graph_tool_extras as gte\n",
    "import pandas as pd\n",
    "import csv"
   ]
  },
  {
   "cell_type": "code",
   "execution_count": null,
   "id": "fe895897-2101-4d73-ba9a-9e1749719628",
   "metadata": {},
   "outputs": [],
   "source": [
    "PATH = '../../Datasets/scopus (1).csv'"
   ]
  },
  {
   "cell_type": "code",
   "execution_count": null,
   "id": "a90c5d1f-5d72-4159-8159-f6dbb7fcaca3",
   "metadata": {},
   "outputs": [],
   "source": [
    "g = gte.Graph(directed=False)"
   ]
  },
  {
   "cell_type": "code",
   "execution_count": null,
   "id": "127fcb3b-7b74-43a0-86ae-5baaae0ce75c",
   "metadata": {},
   "outputs": [],
   "source": [
    "d = {}\n",
    "\n",
    "with open(PATH) as file:\n",
    "    reader = csv.reader(file)\n",
    "\n",
    "    # Ignora a primeira linha, pois ela é o cabeçalho.\n",
    "    next(reader)\n",
    "\n",
    "    # Lê o arquivo linha por linha, sem carregá-lo inteiro na memória.\n",
    "    i = 0\n",
    "    for line in reader:\n",
    "        autores = line[0].split(';')\n",
    "        titulo = line[3]\n",
    "        for autor in autores:\n",
    "            if autor not in d: d[autor] = [titulo]\n",
    "            else: d[autor].append(titulo)\n",
    "        # print(d)\n",
    "        # i += 1\n",
    "        # if i == 2: break"
   ]
  },
  {
   "cell_type": "code",
   "execution_count": null,
   "id": "ca866ee0-fa8d-400e-834d-10f1eabddf49",
   "metadata": {},
   "outputs": [],
   "source": [
    "# # Dicionário para mapear autores para os artigos em que participaram\n",
    "# autores_para_artigos = {}\n",
    "\n",
    "# # Lê o arquivo CSV\n",
    "# with open(PATH) as file:\n",
    "#     reader = csv.reader(file)\n",
    "#     next(reader)  # Ignora o cabeçalho\n",
    "\n",
    "#     for line in reader:\n",
    "#         autores = line[0].split(';')  # Lista de autores\n",
    "#         titulo = line[3]  # Título do artigo\n",
    "\n",
    "#         # Adiciona o título do artigo à lista de artigos de cada autor\n",
    "#         for autor in autores:\n",
    "#             if autor not in autores_para_artigos:\n",
    "#                 autores_para_artigos[autor] = [titulo]\n",
    "#             else:\n",
    "#                 autores_para_artigos[autor].append(titulo)\n",
    "\n",
    "# # Adiciona os vértices (autores) ao grafo\n",
    "# for autor in autores_para_artigos.keys():\n",
    "#     g.add_vertex_by_id(autor)\n",
    "\n",
    "# # Adiciona as arestas (coautorias) ao grafo\n",
    "# for autor1, artigos1 in autores_para_artigos.items():\n",
    "#     for autor2, artigos2 in autores_para_artigos.items():\n",
    "#         if autor1 != autor2:  # Evita criar arestas para o mesmo autor\n",
    "#             # Verifica se os autores colaboraram em algum artigo\n",
    "#             if set(artigos1).intersection(artigos2):\n",
    "#                 g.add_edge_by_ids(autor1, autor2)"
   ]
  },
  {
   "cell_type": "code",
   "execution_count": null,
   "id": "53484c75-1a0e-4aba-9b14-8c8f90d0e3d5",
   "metadata": {},
   "outputs": [],
   "source": [
    "artigos_para_autores = {}\n",
    "\n",
    "# Lê o arquivo CSV\n",
    "with open(PATH) as file:\n",
    "    reader = csv.reader(file)\n",
    "    next(reader)  # Ignora o cabeçalho\n",
    "\n",
    "    i = 0\n",
    "\n",
    "    for line in reader:\n",
    "        if i == 2000: break\n",
    "        autores = line[0].split(';')  # Lista de autores\n",
    "        titulo = line[3]  # Título do artigo\n",
    "\n",
    "        # Adiciona o artigo ao dicionário de artigos para autores\n",
    "        artigos_para_autores[titulo] = autores\n",
    "        i += 1\n",
    "\n",
    "# Adiciona todos os autores como vértices no grafo\n",
    "autores_set = set()  # Usamos um conjunto para evitar duplicatas\n",
    "for autores in artigos_para_autores.values():\n",
    "    autores_set.update(autores)\n",
    "\n",
    "for autor in autores_set:\n",
    "    g.add_vertex_by_id(autor)\n",
    "\n",
    "for autores in artigos_para_autores.values():\n",
    "    # Itera sobre todos os pares únicos de autores no mesmo artigo\n",
    "    for i in range(len(autores)):\n",
    "        for j in range(i + 1, len(autores)):\n",
    "            g.add_edge_by_ids(autores[i], autores[j])"
   ]
  },
  {
   "cell_type": "code",
   "execution_count": null,
   "id": "a446bb96-73a6-46d8-b826-3ea95e86ad28",
   "metadata": {},
   "outputs": [],
   "source": [
    "# for u in d.keys():\n",
    "#     g.add_vertex_by_id(u)"
   ]
  },
  {
   "cell_type": "code",
   "execution_count": null,
   "id": "18cee3d0-e88d-4cbe-bd9f-8803236dd66d",
   "metadata": {},
   "outputs": [],
   "source": [
    "# for autores, titulo in d.items():\n",
    "#     for i in range(len(autores)):\n",
    "#         for j in range(i + 1, len(autores)):\n",
    "#             if \n",
    "#             g.add_edge_by_ids(autores[i], autores[j])"
   ]
  },
  {
   "cell_type": "code",
   "execution_count": null,
   "id": "9aa29ff5-34d0-4362-9154-d51ddbedb215",
   "metadata": {},
   "outputs": [],
   "source": [
    "from graph_tool import draw"
   ]
  },
  {
   "cell_type": "code",
   "execution_count": null,
   "id": "da6dfe28-20b7-4e5c-9f05-bddaf5852d2c",
   "metadata": {},
   "outputs": [],
   "source": [
    "layout = draw.sfdp_layout(g)"
   ]
  },
  {
   "cell_type": "code",
   "execution_count": null,
   "id": "e1a96e4a-3da8-4e9d-bc7b-57c10e72e947",
   "metadata": {},
   "outputs": [],
   "source": [
    "gte.move(g, layout)"
   ]
  },
  {
   "cell_type": "code",
   "execution_count": null,
   "id": "278dd26b-376d-43f1-afa2-b8f70d6a202c",
   "metadata": {},
   "outputs": [],
   "source": [
    "g = gte.clean(g)"
   ]
  },
  {
   "cell_type": "code",
   "execution_count": null,
   "id": "7ad0cf6d-7425-46ce-946f-ee20abdf31b7",
   "metadata": {},
   "outputs": [],
   "source": [
    "gte.save(g, 'artigo.net.gz')"
   ]
  },
  {
   "cell_type": "code",
   "execution_count": null,
   "id": "f6ecb63b-691b-4076-9bee-8a7f69152c89",
   "metadata": {},
   "outputs": [],
   "source": [
    "import netpixi"
   ]
  },
  {
   "cell_type": "code",
   "execution_count": 12,
   "id": "8069c589-8d9d-40a6-8962-2223bff0e14b",
   "metadata": {
    "execution": {
     "iopub.execute_input": "2025-03-26T03:38:09.749157Z",
     "iopub.status.busy": "2025-03-26T03:38:09.748094Z",
     "iopub.status.idle": "2025-03-26T03:38:09.758103Z",
     "shell.execute_reply": "2025-03-26T03:38:09.756529Z",
     "shell.execute_reply.started": "2025-03-26T03:38:09.749119Z"
    }
   },
   "outputs": [
    {
     "data": {
      "text/html": [
       "\n",
       "        <div id=\"EKrTTSafYMFH7rrEmyAspq\"></div>\n",
       "        <script>netpixi.render('EKrTTSafYMFH7rrEmyAspq', '/static/Aulas/redes/artigo.net.gz', 1.7777777777777777, true, false, false, true);</script>\n",
       "    "
      ],
      "text/plain": [
       "<IPython.core.display.HTML object>"
      ]
     },
     "metadata": {},
     "output_type": "display_data"
    }
   ],
   "source": [
    "resultado = netpixi.render('artigo.net.gz')"
   ]
  },
  {
   "cell_type": "code",
   "execution_count": 13,
   "id": "3c5d39f3-5227-499a-859d-9c1939763b38",
   "metadata": {
    "execution": {
     "iopub.execute_input": "2025-03-26T03:38:15.076885Z",
     "iopub.status.busy": "2025-03-26T03:38:15.075679Z",
     "iopub.status.idle": "2025-03-26T03:38:15.091584Z",
     "shell.execute_reply": "2025-03-26T03:38:15.089989Z",
     "shell.execute_reply.started": "2025-03-26T03:38:15.076820Z"
    }
   },
   "outputs": [
    {
     "data": {
      "text/html": [
       "\n",
       "        <div id=\"bc3PTjhP9TrRagzwwM8VRk\"></div>\n",
       "        <script>netpixi.call('bc3PTjhP9TrRagzwwM8VRk', 'EKrTTSafYMFH7rrEmyAspq', 'changeGraph', 'eyJ0eXBlIjogInNldHRpbmdzIiwgInByb3BzIjogeyJ2ZXJ0ZXgiOiB7InNpemUiOiA2LCAiYndpZHRoIjogMn19fQo=');</script>\n",
       "    "
      ],
      "text/plain": [
       "<IPython.core.display.HTML object>"
      ]
     },
     "metadata": {},
     "output_type": "display_data"
    }
   ],
   "source": [
    "resultado.vertex_default(\n",
    "    size=6,         # tamanho            (padrão: 16)\n",
    "    bwidth=2,        # espessura da borda (padrão: 2)\n",
    ")"
   ]
  },
  {
   "cell_type": "code",
   "execution_count": 14,
   "id": "564be0af-2616-4644-886c-b91a499f5d26",
   "metadata": {
    "execution": {
     "iopub.execute_input": "2025-03-26T03:38:16.377701Z",
     "iopub.status.busy": "2025-03-26T03:38:16.376711Z",
     "iopub.status.idle": "2025-03-26T03:38:16.390645Z",
     "shell.execute_reply": "2025-03-26T03:38:16.386586Z",
     "shell.execute_reply.started": "2025-03-26T03:38:16.377667Z"
    }
   },
   "outputs": [
    {
     "data": {
      "text/html": [
       "\n",
       "        <div id=\"nUbXsHaui5CC4WLXwet5de\"></div>\n",
       "        <script>netpixi.call('nUbXsHaui5CC4WLXwet5de', 'EKrTTSafYMFH7rrEmyAspq', 'changeGraph', 'eyJ0eXBlIjogInNldHRpbmdzIiwgInByb3BzIjogeyJlZGdlIjogeyJ3aWR0aCI6IDAuNX19fQo=');</script>\n",
       "    "
      ],
      "text/plain": [
       "<IPython.core.display.HTML object>"
      ]
     },
     "metadata": {},
     "output_type": "display_data"
    }
   ],
   "source": [
    "resultado.edge_default(\n",
    "    width=0.5,        # espessura         (padrão: 2)\n",
    ")"
   ]
  },
  {
   "cell_type": "code",
   "execution_count": null,
   "id": "c8d15279-d8f8-4bf8-b040-938c57e5c131",
   "metadata": {},
   "outputs": [],
   "source": [
    "#netpixi.render('artigo.net.gz')"
   ]
  },
  {
   "cell_type": "code",
   "execution_count": null,
   "id": "fba37f89-f87b-4dde-a013-9f188dea901a",
   "metadata": {},
   "outputs": [],
   "source": [
    "num_vertices = g.num_vertices()\n",
    "\n",
    "# Número de arestas\n",
    "num_arestas = g.num_edges()\n",
    "\n",
    "print(f\"Número de vértices (autores): {num_vertices}\")\n",
    "print(f\"Número de arestas (coautorias): {num_arestas}\")"
   ]
  },
  {
   "cell_type": "code",
   "execution_count": null,
   "id": "7776df39-349e-41ec-be42-e7be0a067653",
   "metadata": {},
   "outputs": [],
   "source": [
    "#DEGREE\n",
    "g = gte.load('artigo.net.gz')\n",
    "\n",
    "c = gte.total_degree(g)\n",
    "\n",
    "g.add_vp('degree', c)"
   ]
  },
  {
   "cell_type": "code",
   "execution_count": null,
   "id": "432d3182-1114-4fc1-9c23-3daa2a8b7445",
   "metadata": {},
   "outputs": [],
   "source": [
    "gte.save(g, 'degree.net.gz')"
   ]
  },
  {
   "cell_type": "code",
   "execution_count": null,
   "id": "0a429a82-f70d-4366-a50a-b2df54c1b6c3",
   "metadata": {},
   "outputs": [],
   "source": [
    "r = netpixi.render('degree.net.gz')"
   ]
  },
  {
   "cell_type": "code",
   "execution_count": null,
   "id": "714e4c67-b864-4bd5-8654-a15b827a4d5f",
   "metadata": {},
   "outputs": [],
   "source": [
    "r.vertex_scale('degree', 10, 30)"
   ]
  },
  {
   "cell_type": "code",
   "execution_count": null,
   "id": "05c9f23e-004e-4f1e-9921-c68063739cc0",
   "metadata": {},
   "outputs": [],
   "source": [
    "#BETWEENEES\n",
    "from graph_tool import centrality\n",
    "g = gte.load('artigo.net.gz')\n",
    "\n",
    "c, _ = centrality.betweenness(g)\n",
    "\n",
    "g.add_vp('betweenness', c)"
   ]
  },
  {
   "cell_type": "code",
   "execution_count": null,
   "id": "6c64935c-c528-4377-ad26-bfc19600a718",
   "metadata": {},
   "outputs": [],
   "source": [
    "gte.save(g, 'betweenness.net.gz')"
   ]
  },
  {
   "cell_type": "code",
   "execution_count": null,
   "id": "53808273-36ad-4064-be8f-19793c1ee7e3",
   "metadata": {},
   "outputs": [],
   "source": [
    "r = netpixi.render('betweenness.net.gz')"
   ]
  },
  {
   "cell_type": "code",
   "execution_count": null,
   "id": "e79ac34c-f4eb-4dae-8580-6d54cf8a9269",
   "metadata": {},
   "outputs": [],
   "source": [
    "r.vertex_scale('betweenness', 10, 30)"
   ]
  },
  {
   "cell_type": "code",
   "execution_count": null,
   "id": "892f4860-b8a7-456d-adc9-3dd853f73c7c",
   "metadata": {},
   "outputs": [],
   "source": [
    "#CLOSENESS\n",
    "from graph_tool import centrality\n",
    "g = gte.load('artigo.net.gz')\n",
    "\n",
    "c = centrality.closeness(g, harmonic=True)\n",
    "\n",
    "g.add_vp('closeness', c)"
   ]
  },
  {
   "cell_type": "code",
   "execution_count": null,
   "id": "64d5aed7-e124-414b-9a5b-fd838815e6ea",
   "metadata": {},
   "outputs": [],
   "source": [
    "gte.save(g, 'closeness.net.gz')"
   ]
  },
  {
   "cell_type": "code",
   "execution_count": null,
   "id": "891a16f9-27d9-4060-b594-e61df05c2296",
   "metadata": {},
   "outputs": [],
   "source": [
    "r = netpixi.render('closeness.net.gz')"
   ]
  },
  {
   "cell_type": "code",
   "execution_count": null,
   "id": "e8ee3b9c-821e-431a-bfce-79f1383dbc0e",
   "metadata": {},
   "outputs": [],
   "source": [
    "r.vertex_scale('closeness', 10, 30)"
   ]
  },
  {
   "cell_type": "code",
   "execution_count": null,
   "id": "6f126dc0-df3e-404d-965a-c502407e6207",
   "metadata": {},
   "outputs": [],
   "source": [
    "#RESTRICAO\n",
    "from graph_tool import centrality\n",
    "g = gte.load('artigo.net.gz')\n",
    "\n",
    "c = gte.burt_constraint(g)\n",
    "\n",
    "g.add_vp('burt_constraint', c)"
   ]
  },
  {
   "cell_type": "code",
   "execution_count": null,
   "id": "a43ce2c6-8a43-4bcf-829a-b221e9aeb22c",
   "metadata": {},
   "outputs": [],
   "source": [
    "gte.save(g, 'structural_holes.net.gz')"
   ]
  },
  {
   "cell_type": "code",
   "execution_count": null,
   "id": "3a1b9740-6125-421d-ae93-889872598d1e",
   "metadata": {},
   "outputs": [],
   "source": [
    "r = netpixi.render('structural_holes.net.gz')"
   ]
  },
  {
   "cell_type": "code",
   "execution_count": null,
   "id": "b339f82b-a9ae-4a7b-973e-25b17ab3b1db",
   "metadata": {},
   "outputs": [],
   "source": [
    "r.vertex_scale('burt_constraint', 10, 30)"
   ]
  },
  {
   "cell_type": "code",
   "execution_count": 2,
   "id": "133297e3-b13a-49f0-868c-b01d7ce379b3",
   "metadata": {
    "execution": {
     "iopub.execute_input": "2025-03-26T03:34:46.740054Z",
     "iopub.status.busy": "2025-03-26T03:34:46.738817Z",
     "iopub.status.idle": "2025-03-26T03:34:57.987597Z",
     "shell.execute_reply": "2025-03-26T03:34:57.986621Z",
     "shell.execute_reply.started": "2025-03-26T03:34:46.740005Z"
    }
   },
   "outputs": [
    {
     "data": {
      "text/html": [
       "\n",
       "    <script src=\"/static/.hidden/netpixi.min.js\"></script>\n"
      ],
      "text/plain": [
       "<IPython.core.display.HTML object>"
      ]
     },
     "metadata": {},
     "output_type": "display_data"
    }
   ],
   "source": [
    "#CONTINUO\n",
    "import cpnet\n",
    "import netpixi\n",
    "g = gte.load('artigo.net.gz')\n",
    "\n",
    "c, l = gte.coreness(g, cpnet.Rombach)"
   ]
  },
  {
   "cell_type": "code",
   "execution_count": 3,
   "id": "21111da1-dbf2-4f01-9100-69c1f3aaa3e0",
   "metadata": {
    "execution": {
     "iopub.execute_input": "2025-03-26T03:35:01.713669Z",
     "iopub.status.busy": "2025-03-26T03:35:01.713138Z",
     "iopub.status.idle": "2025-03-26T03:35:02.379807Z",
     "shell.execute_reply": "2025-03-26T03:35:02.379099Z",
     "shell.execute_reply.started": "2025-03-26T03:35:01.713644Z"
    }
   },
   "outputs": [
    {
     "data": {
      "text/html": [
       "\n",
       "        <div id=\"7gJrUDeUvAWMYTyd99hYHZ\"></div>\n",
       "        <script>netpixi.render('7gJrUDeUvAWMYTyd99hYHZ', '/static/Aulas/redes/coreness.net.gz', 1.7777777777777777, true, false, false, true);</script>\n",
       "    "
      ],
      "text/plain": [
       "<IPython.core.display.HTML object>"
      ]
     },
     "metadata": {},
     "output_type": "display_data"
    }
   ],
   "source": [
    "g.add_vp('coreness', c)\n",
    "\n",
    "gte.save(g, 'coreness.net.gz')\n",
    "\n",
    "r = netpixi.render('coreness.net.gz')"
   ]
  },
  {
   "cell_type": "code",
   "execution_count": 4,
   "id": "b8aad1bf-c4e3-4309-8ace-0cc5c08b0ab6",
   "metadata": {
    "execution": {
     "iopub.execute_input": "2025-03-26T03:35:10.148448Z",
     "iopub.status.busy": "2025-03-26T03:35:10.146691Z",
     "iopub.status.idle": "2025-03-26T03:35:10.163898Z",
     "shell.execute_reply": "2025-03-26T03:35:10.161600Z",
     "shell.execute_reply.started": "2025-03-26T03:35:10.148384Z"
    }
   },
   "outputs": [
    {
     "data": {
      "text/html": [
       "\n",
       "        <div id=\"3rDRMPQetK6zyoiK9d67wZ\"></div>\n",
       "        <script>netpixi.call('3rDRMPQetK6zyoiK9d67wZ', '7gJrUDeUvAWMYTyd99hYHZ', 'normalizeGraph', 'eyJ0eXBlIjogInZlcnRleCIsICJwcm9wcyI6IHsic3JjIjogImNvcmVuZXNzIiwgIm1pbiI6IDUsICJtYXgiOiA1MH19Cg==');</script>\n",
       "    "
      ],
      "text/plain": [
       "<IPython.core.display.HTML object>"
      ]
     },
     "metadata": {},
     "output_type": "display_data"
    }
   ],
   "source": [
    "r.vertex_scale('coreness', 5, 50)"
   ]
  },
  {
   "cell_type": "code",
   "execution_count": 5,
   "id": "86cac6c6-ba16-4303-bfba-cabf6894fb26",
   "metadata": {
    "execution": {
     "iopub.execute_input": "2025-03-26T03:35:53.335138Z",
     "iopub.status.busy": "2025-03-26T03:35:53.333911Z",
     "iopub.status.idle": "2025-03-26T03:37:08.248350Z",
     "shell.execute_reply": "2025-03-26T03:37:08.246434Z",
     "shell.execute_reply.started": "2025-03-26T03:35:53.335079Z"
    }
   },
   "outputs": [
    {
     "ename": "SystemError",
     "evalue": "CPUDispatcher(<function _detect_ at 0x7f91e99dfce0>) returned a result with an exception set",
     "output_type": "error",
     "traceback": [
      "\u001b[0;31m---------------------------------------------------------------------------\u001b[0m",
      "\u001b[0;31mKeyboardInterrupt\u001b[0m                         Traceback (most recent call last)",
      "File \u001b[0;32m/opt/miniconda/envs/jupyterlab/lib/python3.13/site-packages/numba/core/serialize.py:30\u001b[0m, in \u001b[0;36m_numba_unpickle\u001b[0;34m(address, bytedata, hashed)\u001b[0m\n\u001b[1;32m     27\u001b[0m _unpickled_memo \u001b[38;5;241m=\u001b[39m {}\n\u001b[0;32m---> 30\u001b[0m \u001b[38;5;28;01mdef\u001b[39;00m\u001b[38;5;250m \u001b[39m\u001b[38;5;21m_numba_unpickle\u001b[39m(address, bytedata, hashed):\n\u001b[1;32m     31\u001b[0m \u001b[38;5;250m    \u001b[39m\u001b[38;5;124;03m\"\"\"Used by `numba_unpickle` from _helperlib.c\u001b[39;00m\n\u001b[1;32m     32\u001b[0m \n\u001b[1;32m     33\u001b[0m \u001b[38;5;124;03m    Parameters\u001b[39;00m\n\u001b[0;32m   (...)\u001b[0m\n\u001b[1;32m     42\u001b[0m \u001b[38;5;124;03m        unpickled object\u001b[39;00m\n\u001b[1;32m     43\u001b[0m \u001b[38;5;124;03m    \"\"\"\u001b[39;00m\n",
      "\u001b[0;31mKeyboardInterrupt\u001b[0m: ",
      "\nThe above exception was the direct cause of the following exception:\n",
      "\u001b[0;31mSystemError\u001b[0m                               Traceback (most recent call last)",
      "Cell \u001b[0;32mIn[5], line 7\u001b[0m\n\u001b[1;32m      3\u001b[0m \u001b[38;5;28;01mimport\u001b[39;00m\u001b[38;5;250m \u001b[39m\u001b[38;5;21;01mnetpixi\u001b[39;00m\n\u001b[1;32m      5\u001b[0m g \u001b[38;5;241m=\u001b[39m gte\u001b[38;5;241m.\u001b[39mload(\u001b[38;5;124m'\u001b[39m\u001b[38;5;124martigo.net.gz\u001b[39m\u001b[38;5;124m'\u001b[39m)\n\u001b[0;32m----> 7\u001b[0m c, l \u001b[38;5;241m=\u001b[39m \u001b[43mgte\u001b[49m\u001b[38;5;241;43m.\u001b[39;49m\u001b[43mcoreness\u001b[49m\u001b[43m(\u001b[49m\u001b[43mg\u001b[49m\u001b[43m,\u001b[49m\u001b[43m \u001b[49m\u001b[43mcpnet\u001b[49m\u001b[38;5;241;43m.\u001b[39;49m\u001b[43mSurprise\u001b[49m\u001b[43m)\u001b[49m\n\u001b[1;32m      9\u001b[0m g\u001b[38;5;241m.\u001b[39madd_converted_vp(\u001b[38;5;124m'\u001b[39m\u001b[38;5;124mcolor\u001b[39m\u001b[38;5;124m'\u001b[39m, c, \u001b[38;5;28;01mlambda\u001b[39;00m coreness: \u001b[38;5;241m0x00ff00\u001b[39m \u001b[38;5;28;01mif\u001b[39;00m \u001b[38;5;28mround\u001b[39m(coreness) \u001b[38;5;241m==\u001b[39m \u001b[38;5;241m1\u001b[39m \u001b[38;5;28;01melse\u001b[39;00m \u001b[38;5;241m0xff0000\u001b[39m)\n\u001b[1;32m     11\u001b[0m gte\u001b[38;5;241m.\u001b[39msave(g, \u001b[38;5;124m'\u001b[39m\u001b[38;5;124mcoreness_discreto.net.gz\u001b[39m\u001b[38;5;124m'\u001b[39m)\n",
      "File \u001b[0;32m/opt/jupyterlab/.hidden/graph_tool_extras/__init__.py:421\u001b[0m, in \u001b[0;36mcoreness\u001b[0;34m(g, Algorithm, weight, test)\u001b[0m\n\u001b[1;32m    417\u001b[0m     _, _, _, p \u001b[38;5;241m=\u001b[39m cpnet\u001b[38;5;241m.\u001b[39mqstest(nx_l, nx_c, nx_g, algorithm, null_model\u001b[38;5;241m=\u001b[39mnull_model)\n\u001b[1;32m    419\u001b[0m     \u001b[38;5;28;01mreturn\u001b[39;00m centrality, label, p\n\u001b[0;32m--> 421\u001b[0m \u001b[43malgorithm\u001b[49m\u001b[38;5;241;43m.\u001b[39;49m\u001b[43mdetect\u001b[49m\u001b[43m(\u001b[49m\u001b[43mmatrix\u001b[49m\u001b[43m)\u001b[49m\n\u001b[1;32m    423\u001b[0m \u001b[38;5;28;01mfor\u001b[39;00m i, value \u001b[38;5;129;01min\u001b[39;00m algorithm\u001b[38;5;241m.\u001b[39mget_coreness()\u001b[38;5;241m.\u001b[39mitems():\n\u001b[1;32m    424\u001b[0m     c[i] \u001b[38;5;241m=\u001b[39m value\n",
      "File \u001b[0;32m/opt/miniconda/envs/jupyterlab/lib/python3.13/site-packages/cpnet/Surprise.py:54\u001b[0m, in \u001b[0;36mSurprise.detect\u001b[0;34m(self, G)\u001b[0m\n\u001b[1;32m     52\u001b[0m qbest \u001b[38;5;241m=\u001b[39m \u001b[38;5;241m0\u001b[39m\n\u001b[1;32m     53\u001b[0m \u001b[38;5;28;01mfor\u001b[39;00m _it \u001b[38;5;129;01min\u001b[39;00m \u001b[38;5;28mrange\u001b[39m(\u001b[38;5;28mself\u001b[39m\u001b[38;5;241m.\u001b[39mnum_runs):\n\u001b[0;32m---> 54\u001b[0m     x, q \u001b[38;5;241m=\u001b[39m \u001b[43m_detect_\u001b[49m\u001b[43m(\u001b[49m\u001b[43mA\u001b[49m\u001b[38;5;241;43m.\u001b[39;49m\u001b[43mindptr\u001b[49m\u001b[43m,\u001b[49m\u001b[43m \u001b[49m\u001b[43mA\u001b[49m\u001b[38;5;241;43m.\u001b[39;49m\u001b[43mindices\u001b[49m\u001b[43m,\u001b[49m\u001b[43m \u001b[49m\u001b[43mA\u001b[49m\u001b[38;5;241;43m.\u001b[39;49m\u001b[43mdata\u001b[49m\u001b[43m,\u001b[49m\u001b[43m \u001b[49m\u001b[43mA\u001b[49m\u001b[38;5;241;43m.\u001b[39;49m\u001b[43mshape\u001b[49m\u001b[43m[\u001b[49m\u001b[38;5;241;43m0\u001b[39;49m\u001b[43m]\u001b[49m\u001b[43m)\u001b[49m\n\u001b[1;32m     55\u001b[0m     \u001b[38;5;28;01mif\u001b[39;00m q \u001b[38;5;241m<\u001b[39m qbest:\n\u001b[1;32m     56\u001b[0m         xbest \u001b[38;5;241m=\u001b[39m x\n",
      "\u001b[0;31mSystemError\u001b[0m: CPUDispatcher(<function _detect_ at 0x7f91e99dfce0>) returned a result with an exception set"
     ]
    }
   ],
   "source": [
    "#DISCRETO\n",
    "import cpnet\n",
    "import netpixi\n",
    "\n",
    "g = gte.load('artigo.net.gz')\n",
    "\n",
    "c, l = gte.coreness(g, cpnet.Surprise)\n",
    "\n",
    "g.add_converted_vp('color', c, lambda coreness: 0x00ff00 if round(coreness) == 1 else 0xff0000)\n",
    "\n",
    "gte.save(g, 'coreness_discreto.net.gz')\n",
    "\n",
    "r = netpixi.render('coreness_discreto.net.gz');"
   ]
  },
  {
   "cell_type": "code",
   "execution_count": null,
   "id": "64f1293d-2390-438b-a5f9-6b1fdb1434ed",
   "metadata": {},
   "outputs": [],
   "source": [
    "r.vertex_scale('coreness', 5, 50)"
   ]
  },
  {
   "cell_type": "code",
   "execution_count": 6,
   "id": "b756e3de-c440-49eb-9454-ebc7051112d3",
   "metadata": {
    "execution": {
     "iopub.execute_input": "2025-03-26T03:37:19.412723Z",
     "iopub.status.busy": "2025-03-26T03:37:19.411924Z",
     "iopub.status.idle": "2025-03-26T03:37:19.833454Z",
     "shell.execute_reply": "2025-03-26T03:37:19.831680Z",
     "shell.execute_reply.started": "2025-03-26T03:37:19.412689Z"
    }
   },
   "outputs": [],
   "source": [
    "#DISTRIBUICAO DEGREE\n",
    "g = gte.load('artigo.net.gz')\n",
    "degrees = g.get_total_degrees()"
   ]
  },
  {
   "cell_type": "code",
   "execution_count": 7,
   "id": "cbefd662-c753-41a6-86f9-4f939184d332",
   "metadata": {
    "execution": {
     "iopub.execute_input": "2025-03-26T03:37:20.806883Z",
     "iopub.status.busy": "2025-03-26T03:37:20.806179Z",
     "iopub.status.idle": "2025-03-26T03:37:20.851203Z",
     "shell.execute_reply": "2025-03-26T03:37:20.850022Z",
     "shell.execute_reply.started": "2025-03-26T03:37:20.806833Z"
    }
   },
   "outputs": [
    {
     "data": {
      "text/plain": [
       "count    2476.000000\n",
       "mean       12.166397\n",
       "std        15.799852\n",
       "min         1.000000\n",
       "25%         5.000000\n",
       "50%         8.000000\n",
       "75%        13.000000\n",
       "max       273.000000\n",
       "dtype: float64"
      ]
     },
     "execution_count": 7,
     "metadata": {},
     "output_type": "execute_result"
    }
   ],
   "source": [
    "degrees.describe()"
   ]
  },
  {
   "cell_type": "code",
   "execution_count": 8,
   "id": "72075bcb-3181-4946-a17e-1832d592b0cf",
   "metadata": {
    "execution": {
     "iopub.execute_input": "2025-03-26T03:37:22.127596Z",
     "iopub.status.busy": "2025-03-26T03:37:22.126594Z",
     "iopub.status.idle": "2025-03-26T03:37:22.470018Z",
     "shell.execute_reply": "2025-03-26T03:37:22.468534Z",
     "shell.execute_reply.started": "2025-03-26T03:37:22.127559Z"
    }
   },
   "outputs": [
    {
     "data": {
      "image/png": "[encoded data removed]",
      "text/plain": [
       "<Figure size 640x480 with 1 Axes>"
      ]
     },
     "metadata": {},
     "output_type": "display_data"
    }
   ],
   "source": [
    "degrees.hist();"
   ]
  },
  {
   "cell_type": "code",
   "execution_count": 9,
   "id": "7b7da265-444e-43d2-818e-920a407a67da",
   "metadata": {
    "execution": {
     "iopub.execute_input": "2025-03-26T03:37:26.078447Z",
     "iopub.status.busy": "2025-03-26T03:37:26.077805Z",
     "iopub.status.idle": "2025-03-26T03:37:26.098772Z",
     "shell.execute_reply": "2025-03-26T03:37:26.097810Z",
     "shell.execute_reply.started": "2025-03-26T03:37:26.078415Z"
    }
   },
   "outputs": [
    {
     "data": {
      "text/plain": [
       "np.float64(0.0)"
      ]
     },
     "execution_count": 9,
     "metadata": {},
     "output_type": "execute_result"
    }
   ],
   "source": [
    "import distribution as dst\n",
    "dst.not_normal(degrees)"
   ]
  },
  {
   "cell_type": "code",
   "execution_count": 10,
   "id": "5503992e-3354-4fce-84fe-1f498cfc4672",
   "metadata": {
    "execution": {
     "iopub.execute_input": "2025-03-26T03:37:27.168009Z",
     "iopub.status.busy": "2025-03-26T03:37:27.166606Z",
     "iopub.status.idle": "2025-03-26T03:37:27.408280Z",
     "shell.execute_reply": "2025-03-26T03:37:27.407005Z",
     "shell.execute_reply.started": "2025-03-26T03:37:27.167957Z"
    }
   },
   "outputs": [
    {
     "name": "stderr",
     "output_type": "stream",
     "text": [
      "Calculating best minimal value for power law fit\n",
      "/opt/miniconda/envs/jupyterlab/lib/python3.13/site-packages/powerlaw.py:699: RuntimeWarning: invalid value encountered in divide\n",
      "  (CDF_diff**2) /\n"
     ]
    },
    {
     "data": {
      "text/plain": [
       "(np.False_, np.float64(0.5060326269870934))"
      ]
     },
     "execution_count": 10,
     "metadata": {},
     "output_type": "execute_result"
    }
   ],
   "source": [
    "dst.more_powerlaw_than_lognormal(degrees)"
   ]
  },
  {
   "cell_type": "code",
   "execution_count": 11,
   "id": "488b9a67-9972-4573-9395-d449987e3127",
   "metadata": {
    "execution": {
     "iopub.execute_input": "2025-03-26T03:37:28.047221Z",
     "iopub.status.busy": "2025-03-26T03:37:28.045667Z",
     "iopub.status.idle": "2025-03-26T03:37:28.076905Z",
     "shell.execute_reply": "2025-03-26T03:37:28.075292Z",
     "shell.execute_reply.started": "2025-03-26T03:37:28.047177Z"
    }
   },
   "outputs": [
    {
     "name": "stderr",
     "output_type": "stream",
     "text": [
      "Calculating best minimal value for power law fit\n"
     ]
    },
    {
     "data": {
      "text/plain": [
       "(np.True_, np.float64(0.10208639249989478))"
      ]
     },
     "execution_count": 11,
     "metadata": {},
     "output_type": "execute_result"
    }
   ],
   "source": [
    "dst.more_powerlaw_than_exponential(degrees)"
   ]
  },
  {
   "cell_type": "code",
   "execution_count": null,
   "id": "bf07cc0b-53c7-4c6a-8766-21941d2208a4",
   "metadata": {},
   "outputs": [],
   "source": []
  }
 ],
 "metadata": {
  "kernelspec": {
   "display_name": "Python 3 (ipykernel)",
   "language": "python",
   "name": "python3"
  },
  "language_info": {
   "codemirror_mode": {
    "name": "ipython",
    "version": 3
   },
   "file_extension": ".py",
   "mimetype": "text/x-python",
   "name": "python",
   "nbconvert_exporter": "python",
   "pygments_lexer": "ipython3",
   "version": "3.13.1"
  }
 },
 "nbformat": 4,
 "nbformat_minor": 5
}
